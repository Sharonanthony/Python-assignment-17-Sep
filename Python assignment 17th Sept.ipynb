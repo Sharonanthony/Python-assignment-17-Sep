{
 "cells": [
  {
   "cell_type": "code",
   "execution_count": 1,
   "id": "5c6c70b7-887c-4e04-a691-29e3807e2404",
   "metadata": {},
   "outputs": [],
   "source": [
    "# For Loop :-"
   ]
  },
  {
   "cell_type": "code",
   "execution_count": 3,
   "id": "e8acc5c8-25e5-44d4-a964-5458e1d9e70c",
   "metadata": {},
   "outputs": [
    {
     "name": "stdout",
     "output_type": "stream",
     "text": [
      "1\n",
      "2\n",
      "3\n",
      "4\n",
      "5\n",
      "6\n",
      "7\n",
      "8\n",
      "9\n",
      "10\n"
     ]
    }
   ],
   "source": [
    "#1. Write a Python program to print numbers from 1 to 10 using a for loop.\n",
    "\n",
    "for i in range(1,11):\n",
    "    print(i)"
   ]
  },
  {
   "cell_type": "code",
   "execution_count": 4,
   "id": "60e81599-c087-4d66-a336-90c01bb2f591",
   "metadata": {},
   "outputs": [],
   "source": [
    "#2. Explain the difference between a for loop and a while loop in Python.\n",
    "\n",
    "#For loop is used to iterate over a sequence of items. \n",
    "#While loop is used to repeatedly execute a block of statements while a condition is true.\n"
   ]
  },
  {
   "cell_type": "code",
   "execution_count": 10,
   "id": "991152b4-020d-4032-a3b4-53bcfed59ef6",
   "metadata": {},
   "outputs": [
    {
     "name": "stdout",
     "output_type": "stream",
     "text": [
      "5050\n"
     ]
    }
   ],
   "source": [
    "#3. Write a Python program to calculate the sum of all numbers from 1 to 100 using a for loop.\n",
    "\n",
    "a=0\n",
    "for i in range (1,101):\n",
    "    a= a+i\n",
    "print(a)"
   ]
  },
  {
   "cell_type": "code",
   "execution_count": 11,
   "id": "a0bad705-a7e2-4630-b1be-75c95660cdd4",
   "metadata": {},
   "outputs": [
    {
     "name": "stdout",
     "output_type": "stream",
     "text": [
      "yellow\n",
      "blue\n",
      "red\n",
      "green\n",
      "pink\n"
     ]
    }
   ],
   "source": [
    "#4. How do you iterate through a list using a for loop in Python?\n",
    "\n",
    "colours= [\"yellow\",\"blue\",\"red\",\"green\",\"pink\"]\n",
    "for i in colours:\n",
    "    print(i)"
   ]
  },
  {
   "cell_type": "code",
   "execution_count": 13,
   "id": "0a3cd763-5959-49ba-a79f-9ecd8fc2f6bd",
   "metadata": {},
   "outputs": [
    {
     "name": "stdout",
     "output_type": "stream",
     "text": [
      "The product of all elements in a list is  12960\n"
     ]
    }
   ],
   "source": [
    "#5. Write a Python program to find the product of all elements in a list using a for loop.\n",
    "\n",
    "numbers=[2,54,3,2,4,5]\n",
    "product=1\n",
    "for i in numbers:\n",
    "    product= product*i\n",
    "print(\"The product of all elements in a list is \",product)"
   ]
  },
  {
   "cell_type": "code",
   "execution_count": 14,
   "id": "a5a357b0-05f2-4dc9-ba46-d894e24301b9",
   "metadata": {},
   "outputs": [
    {
     "name": "stdout",
     "output_type": "stream",
     "text": [
      "2\n",
      "4\n",
      "6\n",
      "8\n",
      "10\n",
      "12\n",
      "14\n",
      "16\n",
      "18\n",
      "20\n"
     ]
    }
   ],
   "source": [
    "#6. Create a Python program that prints all even numbers from 1 to 20 using a for loop.\n",
    "\n",
    "for i in range(1,21):\n",
    "    if i%2==0:\n",
    "        print(i)"
   ]
  },
  {
   "cell_type": "code",
   "execution_count": 19,
   "id": "6d008cd6-9edd-4069-8d4d-6c085dcebd28",
   "metadata": {},
   "outputs": [
    {
     "name": "stdin",
     "output_type": "stream",
     "text": [
      "Enter a number:-  4\n"
     ]
    },
    {
     "name": "stdout",
     "output_type": "stream",
     "text": [
      "The factorial of the number is  24\n"
     ]
    }
   ],
   "source": [
    "#7. Write a Python program that calculates the factorial of a number using a for loop.\n",
    "\n",
    "n= int(input(\"Enter a number:- \"))\n",
    "factorial=1\n",
    "if n>=1:\n",
    "    for n in range (1,n+1):\n",
    "        factorial= factorial*n\n",
    "        n= n-1\n",
    "    print(\"The factorial of the number is \",factorial)\n",
    "    "
   ]
  },
  {
   "cell_type": "code",
   "execution_count": 24,
   "id": "95eea48f-bea7-47ef-b4bd-ddf9447b8a48",
   "metadata": {},
   "outputs": [
    {
     "name": "stdout",
     "output_type": "stream",
     "text": [
      "H\n",
      "e\n",
      "l\n",
      "l\n",
      "o\n"
     ]
    }
   ],
   "source": [
    "#8. How can you iterate through the characters of a string using a for loop in Python?\n",
    "\n",
    "a=\"Hello\"\n",
    "for i in a:\n",
    "    print(i)"
   ]
  },
  {
   "cell_type": "code",
   "execution_count": 29,
   "id": "1fd5f088-611a-48a6-b20d-fecdd526cee2",
   "metadata": {},
   "outputs": [
    {
     "name": "stdout",
     "output_type": "stream",
     "text": [
      "66\n"
     ]
    }
   ],
   "source": [
    "#9. Write a Python program to find the largest number in a list using a for loop.\n",
    "\n",
    "a=[7,34,23,66]\n",
    "largest=a[0]\n",
    "for i in a:\n",
    "    if i>largest:\n",
    "        largest=i\n",
    "print(largest)"
   ]
  },
  {
   "cell_type": "code",
   "execution_count": 41,
   "id": "dea7403d-c91a-4913-98d3-f4e801035434",
   "metadata": {},
   "outputs": [
    {
     "name": "stdin",
     "output_type": "stream",
     "text": [
      "Enter a number:-  4\n"
     ]
    },
    {
     "name": "stdout",
     "output_type": "stream",
     "text": [
      "0 1 1 2 "
     ]
    }
   ],
   "source": [
    "#10. Create a Python program that prints the Fibonacci sequence up to a specified limit using a for loop.\n",
    "\n",
    "n= int(input(\"Enter a number:- \"))\n",
    "a=0\n",
    "b=1\n",
    "if n<0:\n",
    "    print(\"Error. Print a positive number.\")\n",
    "else:\n",
    "    for i in range (0,n):\n",
    "        print(a, end= \" \")\n",
    "        c=a+b\n",
    "        a=b\n",
    "        b=c"
   ]
  },
  {
   "cell_type": "code",
   "execution_count": null,
   "id": "cce2c022-c9f0-4d38-8177-7f41bfbae8ea",
   "metadata": {},
   "outputs": [],
   "source": [
    "#11. Write a Python program to count the number of vowels in a given string using a for loop.\n",
    "\n",
    "a= \"Hello\"\n",
    "b=a.lower()\n",
    "count=0\n",
    "for d in b:\n",
    "    if d==a or d==e or d==i or d==o or d==u:\n",
    "        count= count+1\n",
    "    print(count)"
   ]
  },
  {
   "cell_type": "code",
   "execution_count": 53,
   "id": "8480a629-f587-4e2e-8c16-f5bf07d74063",
   "metadata": {},
   "outputs": [
    {
     "name": "stdin",
     "output_type": "stream",
     "text": [
      "Enter a number:-  5\n"
     ]
    },
    {
     "name": "stdout",
     "output_type": "stream",
     "text": [
      " 5 x 1 = 5\n",
      " 5 x 2 = 10\n",
      " 5 x 3 = 15\n",
      " 5 x 4 = 20\n",
      " 5 x 5 = 25\n",
      " 5 x 6 = 30\n",
      " 5 x 7 = 35\n",
      " 5 x 8 = 40\n",
      " 5 x 9 = 45\n",
      " 5 x 10 = 50\n"
     ]
    }
   ],
   "source": [
    "#12. Create a Python program that generates a multiplication table for a given number using a for loop.\n",
    "\n",
    "a= int(input(\"Enter a number:- \"))\n",
    "for i in range(1,11):\n",
    "    b = i*a\n",
    "    print(f\" {a} x {i} = {b}\")"
   ]
  },
  {
   "cell_type": "code",
   "execution_count": 63,
   "id": "1945f700-c5b2-49b3-8e9a-1bb401d6b45a",
   "metadata": {},
   "outputs": [
    {
     "name": "stdout",
     "output_type": "stream",
     "text": [
      "[4, 3, 2, 74, 66, 45]\n"
     ]
    }
   ],
   "source": [
    "#13. Write a Python program to reverse a list using a for loop.\n",
    "\n",
    "a=[45,66,74,2,3,4]\n",
    "reversed=[]\n",
    "for i in range(0,len(a)):\n",
    "    reversed.append(a[len(a)-i-1])\n",
    "print(reversed)"
   ]
  },
  {
   "cell_type": "code",
   "execution_count": 66,
   "id": "77e553ec-dcb2-4ee3-99ff-5593f910d921",
   "metadata": {},
   "outputs": [
    {
     "name": "stdout",
     "output_type": "stream",
     "text": [
      "67\n",
      "54\n",
      "45\n"
     ]
    }
   ],
   "source": [
    "#14. Write a Python program to find the common elements between two lists using a for loop.\n",
    "\n",
    "a=[67,54,23,45,77]\n",
    "b=[67,44,54,45,99,33]\n",
    "for i in a:\n",
    "    for y in b:\n",
    "        if i==y:\n",
    "            print(y)\n",
    "        "
   ]
  },
  {
   "cell_type": "code",
   "execution_count": 3,
   "id": "1325cc12-611e-49bb-8ca2-30e7ba570e7f",
   "metadata": {},
   "outputs": [
    {
     "name": "stdout",
     "output_type": "stream",
     "text": [
      "1\n",
      "2\n",
      "3\n",
      "cookie\n",
      "ice-cream\n",
      "wafers\n"
     ]
    }
   ],
   "source": [
    "#15. Explain how to use a for loop to iterate through the keys and values of a dictionary in Python.\n",
    "\n",
    "stall={1:\"cookie\", 2:\"ice-cream\", 3:\"wafers\"}\n",
    "for keys in stall:\n",
    "    print(keys)\n",
    "for value in stall.values():\n",
    "    print(value)"
   ]
  },
  {
   "cell_type": "code",
   "execution_count": 8,
   "id": "28a78770-6f43-4b22-afd0-9d545bac91e8",
   "metadata": {},
   "outputs": [
    {
     "name": "stdin",
     "output_type": "stream",
     "text": [
      "Enter a num1:-  6\n",
      "Enter a num2:-  3\n"
     ]
    },
    {
     "name": "stdout",
     "output_type": "stream",
     "text": [
      "3\n"
     ]
    }
   ],
   "source": [
    "#16. Write a Python program to find the GCD (Greatest Common Divisor) of two numbers using a for loop.\n",
    "\n",
    "a=int(input(\"Enter a num1:- \"))\n",
    "b=int(input(\"Enter a num2:- \"))\n",
    "if a>b:\n",
    "    a,b=b,a\n",
    "for i in range(1,a+1):\n",
    "    if a%i==0 and b%i==0:\n",
    "        gcd=i\n",
    "print(gcd)"
   ]
  },
  {
   "cell_type": "code",
   "execution_count": 12,
   "id": "f9bf35ec-7e59-48d4-964f-bf9b620b91d0",
   "metadata": {},
   "outputs": [
    {
     "name": "stdin",
     "output_type": "stream",
     "text": [
      "Enter a string:-  MAlayalam\n"
     ]
    },
    {
     "name": "stdout",
     "output_type": "stream",
     "text": [
      "It is a palindrome\n"
     ]
    }
   ],
   "source": [
    "#17. Create a Python program that checks if a string is a palindrome using a for loop.\n",
    "\n",
    "string=input(\"Enter a string:- \")\n",
    "a= string.lower()\n",
    "b=list(a)\n",
    "reversed=[]\n",
    "for i in range(0,len(a)):\n",
    "    reversed.append(a[len(a)-i-1])\n",
    "reversed_string= \"\".join(reversed)\n",
    "if reversed_string==a:\n",
    "        print(\"It is a palindrome\")\n",
    "else:\n",
    "    print(\"It is not a palindrome\")"
   ]
  },
  {
   "cell_type": "code",
   "execution_count": 15,
   "id": "4fb34a41-0759-496e-bf1f-89fd77fbd749",
   "metadata": {},
   "outputs": [
    {
     "name": "stdout",
     "output_type": "stream",
     "text": [
      "[2, 4, 5, 6, 8]\n"
     ]
    }
   ],
   "source": [
    "#18. Write a Python program to remove duplicates from a list using a for loop.\n",
    "\n",
    "num=[2,2,2,4,5,6,6,8]\n",
    "no_duplicate=[]\n",
    "for i in num:\n",
    "    if i not in no_duplicate:\n",
    "        no_duplicate.append(i)\n",
    "print(no_duplicate)     "
   ]
  },
  {
   "cell_type": "code",
   "execution_count": 5,
   "id": "9e05b273-ccad-4cc7-9f71-34025d1a556a",
   "metadata": {},
   "outputs": [
    {
     "name": "stdin",
     "output_type": "stream",
     "text": [
      "Enter a sentence:-  Have a nice life!\n"
     ]
    },
    {
     "name": "stdout",
     "output_type": "stream",
     "text": [
      "The number of words in the sentence is :-  3\n"
     ]
    }
   ],
   "source": [
    "#19. Create a Python program that counts the number of words in a sentence using a for loop.\n",
    "\n",
    "a=input(\"Enter a sentence:- \")\n",
    "count=0\n",
    "for i in a:\n",
    "    if i==\" \":\n",
    "        count=count+1\n",
    "print(\"The number of words in the sentence is :- \",count)"
   ]
  },
  {
   "cell_type": "code",
   "execution_count": 6,
   "id": "0f6ee4d2-a712-4309-be24-2c1da99b28ad",
   "metadata": {},
   "outputs": [
    {
     "name": "stdout",
     "output_type": "stream",
     "text": [
      "650\n"
     ]
    }
   ],
   "source": [
    "#20. Write a Python program to find the sum of all odd numbers from 1 to 50 using a for loop.\n",
    "\n",
    "total=0\n",
    "for i in range(1,51):\n",
    "    if i%2==0:\n",
    "       total=total+i\n",
    "print(total)\n"
   ]
  },
  {
   "cell_type": "code",
   "execution_count": 12,
   "id": "963f82e5-e571-4da9-a1da-2075e5a5f02a",
   "metadata": {},
   "outputs": [
    {
     "name": "stdin",
     "output_type": "stream",
     "text": [
      "Enter a year:-  2024\n"
     ]
    },
    {
     "name": "stdout",
     "output_type": "stream",
     "text": [
      "It is a leap year\n"
     ]
    }
   ],
   "source": [
    "#21. Write a Python program that checks if a given year is a leap year using a for loop\n",
    "\n",
    "year=int(input(\"Enter a year:- \"))\n",
    "if year%4==0 and year%100!=0 or year%400==0:\n",
    "    print(\"It is a leap year\") \n",
    "else:\n",
    "    print(\"It is not a leap year\")   "
   ]
  },
  {
   "cell_type": "code",
   "execution_count": 16,
   "id": "2cb777a8-18ff-45fa-9edf-bb91d32786d8",
   "metadata": {},
   "outputs": [
    {
     "name": "stdin",
     "output_type": "stream",
     "text": [
      "Enter a number:-  4\n"
     ]
    },
    {
     "name": "stdout",
     "output_type": "stream",
     "text": [
      "2.0\n"
     ]
    }
   ],
   "source": [
    "#22. Create a Python program that calculates the square root of a number using a for loop.\n",
    "\n",
    "n=float(input(\"Enter a number:- \"))\n",
    "root= n*0.5\n",
    "print(root)"
   ]
  },
  {
   "cell_type": "code",
   "execution_count": 18,
   "id": "18b190be-6f24-4c7d-a7cd-c9f1c9e63bab",
   "metadata": {},
   "outputs": [
    {
     "name": "stdout",
     "output_type": "stream",
     "text": [
      "LCM of 12 and 14 is 84\n"
     ]
    }
   ],
   "source": [
    "#23. Write a Python program to find the LCM (Least Common Multiple) of two numbers using a for loop.\n",
    "\n",
    "num1 = 12\n",
    "num2 = 14\n",
    "for i in range(max(num1, num2), 1 + (num1 * num2)):\n",
    "    if i % num1 == i % num2 == 0:\n",
    "        lcm = i\n",
    "        break\n",
    "print(\"LCM of\", num1, \"and\", num2, \"is\", lcm)"
   ]
  },
  {
   "cell_type": "code",
   "execution_count": 19,
   "id": "578b7ad6-5638-4272-adc8-506bcb01a716",
   "metadata": {},
   "outputs": [],
   "source": [
    "#If else :"
   ]
  },
  {
   "cell_type": "code",
   "execution_count": 22,
   "id": "74663e40-60da-494e-a4cd-30d9bff98194",
   "metadata": {},
   "outputs": [
    {
     "name": "stdin",
     "output_type": "stream",
     "text": [
      "Enter a number:-  0\n"
     ]
    },
    {
     "name": "stdout",
     "output_type": "stream",
     "text": [
      "0.0 is zero\n"
     ]
    }
   ],
   "source": [
    "#1. Write a Python program to check if a number is positive, negative, or zero using an if-else statement.\n",
    "\n",
    "n=float(input(\"Enter a number:- \"))\n",
    "if n<0:\n",
    "    print(f\"{n} is negative\")\n",
    "if n>0:\n",
    "    print(f\"{n} is positive\")\n",
    "else :\n",
    "    print(f\"{n} is zero\")"
   ]
  },
  {
   "cell_type": "code",
   "execution_count": 24,
   "id": "ecf56801-3584-448b-9b93-c1b80f102fb5",
   "metadata": {},
   "outputs": [
    {
     "name": "stdin",
     "output_type": "stream",
     "text": [
      "Enter a number:-  45\n"
     ]
    },
    {
     "name": "stdout",
     "output_type": "stream",
     "text": [
      "45 is a odd number\n"
     ]
    }
   ],
   "source": [
    "#2. Create a Python program that checks if a given number is even or odd using an if-else statement\n",
    "\n",
    "n=int(input(\"Enter a number:- \"))\n",
    "if n%2==0:\n",
    "    print(f\"{n} is a even number\")\n",
    "else:\n",
    "    print(f\"{n} is a odd number\")"
   ]
  },
  {
   "cell_type": "code",
   "execution_count": 25,
   "id": "479e9f3f-bf6c-46a8-bb82-21f6086f90bc",
   "metadata": {},
   "outputs": [
    {
     "name": "stdin",
     "output_type": "stream",
     "text": [
      "Enter a number:-  -45\n"
     ]
    },
    {
     "name": "stdout",
     "output_type": "stream",
     "text": [
      "-45 is negative\n"
     ]
    }
   ],
   "source": [
    "#3. How can you use nested if-else statements in Python, and provide an example?\n",
    "\n",
    "#we need nesting of if statements to make the entire program flow of code in a semantic order and make it easily readable.\n",
    "\n",
    "n= int(input(\"Enter a number:- \"))\n",
    "if n>0:\n",
    "    print(f\"{n} is positive\")\n",
    "if n==0:\n",
    "    print(f\"{n} is zero\")\n",
    "else:\n",
    "    print(f\"{n} is negative\")   "
   ]
  },
  {
   "cell_type": "code",
   "execution_count": 27,
   "id": "0d4916df-33f0-4467-b0ac-4e585d8b9716",
   "metadata": {},
   "outputs": [
    {
     "name": "stdin",
     "output_type": "stream",
     "text": [
      "Enter a number1:-  34\n",
      "Enter a number2:-  23\n",
      "Enter a number3:-  56\n"
     ]
    },
    {
     "name": "stdout",
     "output_type": "stream",
     "text": [
      "56 is the greatest number\n"
     ]
    }
   ],
   "source": [
    "#4. Write a Python program to determine the largest of three numbers using if-else.\n",
    "\n",
    "a= int(input(\"Enter a number1:- \"))\n",
    "b= int(input(\"Enter a number2:- \"))\n",
    "c= int(input(\"Enter a number3:- \"))\n",
    "if a>b and a>c:\n",
    "    print(f\"{a} is the greatest number\")\n",
    "if b>a and b>c:\n",
    "    print(f\"{b} is the greatest number\")\n",
    "else:\n",
    "     print(f\"{c} is the greatest number\")"
   ]
  },
  {
   "cell_type": "code",
   "execution_count": 32,
   "id": "e53f6707-b581-40ad-9bc4-c5aed3d30cba",
   "metadata": {},
   "outputs": [
    {
     "name": "stdin",
     "output_type": "stream",
     "text": [
      "Enter a number:-  -45\n"
     ]
    },
    {
     "name": "stdout",
     "output_type": "stream",
     "text": [
      "The absolute value of -45.0 is  45.0\n"
     ]
    }
   ],
   "source": [
    "#5. Write a Python program that calculates the absolute value of a number using if-else.\n",
    "\n",
    "a=float(input(\"Enter a number:- \"))\n",
    "if a<0:\n",
    "    print(f\"The absolute value of {a} is \",abs(a))\n",
    "else:\n",
    "    print(f\"The absolute value of {a} is {a}\")"
   ]
  },
  {
   "cell_type": "code",
   "execution_count": 1,
   "id": "598a9abb-2741-47fe-a304-495d077defa3",
   "metadata": {},
   "outputs": [
    {
     "name": "stdin",
     "output_type": "stream",
     "text": [
      "Enter a character:-  r\n"
     ]
    },
    {
     "name": "stdout",
     "output_type": "stream",
     "text": [
      "r is a consonant\n"
     ]
    }
   ],
   "source": [
    "#6. Create a Python program that checks if a given character is a vowel or consonant using if-else.\n",
    "\n",
    "a=input(\"Enter a character:- \")\n",
    "b=a.lower()\n",
    "if b==\"a\" or b==\"e\" or b==\"i\" or b==\"o\" or b==\"u\":\n",
    "    print(f\"{a} is a vowel\")\n",
    "else:\n",
    "    print(f\"{a} is a consonant\")"
   ]
  },
  {
   "cell_type": "code",
   "execution_count": 2,
   "id": "241235d7-275b-40ab-8792-9ab77f6a653b",
   "metadata": {},
   "outputs": [
    {
     "name": "stdin",
     "output_type": "stream",
     "text": [
      "Enter your age:-  18\n"
     ]
    },
    {
     "name": "stdout",
     "output_type": "stream",
     "text": [
      "You are eligible to vote\n"
     ]
    }
   ],
   "source": [
    "#7. Write a Python program to determine if a user is eligible to vote based on their age using if-else\n",
    "\n",
    "a= int(input(\"Enter your age:- \"))\n",
    "if a>=18:\n",
    "    print(\"You are eligible to vote\")\n",
    "else:\n",
    "    print(\"You are not eligible to vote\")"
   ]
  },
  {
   "cell_type": "code",
   "execution_count": 6,
   "id": "eb3808ce-de3d-4386-8613-e99d70fa3e3c",
   "metadata": {},
   "outputs": [
    {
     "name": "stdin",
     "output_type": "stream",
     "text": [
      "Enter the price of the purchase:-  2000\n"
     ]
    },
    {
     "name": "stdout",
     "output_type": "stream",
     "text": [
      "The discounted price is  1600.0\n"
     ]
    }
   ],
   "source": [
    "#8. Create a Python program that calculates the discount amount based on the purchase amount using if-else.\n",
    "\n",
    "price= float(input(\"Enter the price of the purchase:- \"))\n",
    "if price>=3000:\n",
    "    a= price-((price* 40)/100)\n",
    "    print(\"The discounted price is \",a)\n",
    "elif price>=1000:\n",
    "    b= price-((price* 20)/100)\n",
    "    print(\"The discounted price is \",b)\n",
    "else:\n",
    "    print(\"The discounted price is \",price)   "
   ]
  },
  {
   "cell_type": "code",
   "execution_count": 7,
   "id": "e874a447-d665-4a53-a8d8-a8c56a9bc442",
   "metadata": {},
   "outputs": [
    {
     "name": "stdin",
     "output_type": "stream",
     "text": [
      "Enter a number:-  200\n"
     ]
    },
    {
     "name": "stdout",
     "output_type": "stream",
     "text": [
      "200 is not in range of 0 to 100\n"
     ]
    }
   ],
   "source": [
    "#9. Write a Python program to check if a number is within a specified range using if-else.\n",
    "\n",
    "a=int(input(\"Enter a number:- \"))\n",
    "if a in range(0,100):\n",
    "    print(f\"{a} is in range of 0 to 100\")\n",
    "else:\n",
    "    print(f\"{a} is not in range of 0 to 100\")"
   ]
  },
  {
   "cell_type": "code",
   "execution_count": 8,
   "id": "fb7435f0-1318-4e2e-8cb6-96f9ea6a03a5",
   "metadata": {},
   "outputs": [
    {
     "name": "stdin",
     "output_type": "stream",
     "text": [
      "Enter the student's marks:-  67\n"
     ]
    },
    {
     "name": "stdout",
     "output_type": "stream",
     "text": [
      "Congrats the student has obtained B grade\n"
     ]
    }
   ],
   "source": [
    "#10. Create a Python program that determines the grade of a student based on their score using if-else\n",
    "\n",
    "marks= int(input(\"Enter the student's marks:- \"))\n",
    "if marks>80:\n",
    "    print(\"Congrats the student has obtained A grade\")\n",
    "elif marks>60:\n",
    "    print(\"Congrats the student has obtained B grade\")\n",
    "else:\n",
    "    print(\"Congarts the student has obtained C grade\")"
   ]
  },
  {
   "cell_type": "code",
   "execution_count": 9,
   "id": "03d57020-0c24-4dc6-9f29-00434210f113",
   "metadata": {},
   "outputs": [
    {
     "name": "stdout",
     "output_type": "stream",
     "text": [
      "The string is empty\n"
     ]
    }
   ],
   "source": [
    "#11. Write a Python program to check if a string is empty or not using if-else.\n",
    "\n",
    "a=\"\"\n",
    "if a==\"\":\n",
    "    print(\"The string is empty\")\n",
    "else:\n",
    "    print(\"The string is not empty\")"
   ]
  },
  {
   "cell_type": "code",
   "execution_count": 10,
   "id": "45a50b40-2ced-4354-a511-aaee66446cfc",
   "metadata": {},
   "outputs": [
    {
     "name": "stdin",
     "output_type": "stream",
     "text": [
      "Enter the length of side 1:-  55\n",
      "Enter the length of side 2:-  45\n",
      "Enter the length of side 3:-  55\n"
     ]
    },
    {
     "name": "stdout",
     "output_type": "stream",
     "text": [
      "It is an isosceles triangle\n"
     ]
    }
   ],
   "source": [
    "#12. Create a Python program that identifies the type of a triangle (e.g., equilateral, isosceles, or\n",
    "#scalene) based on input values using if-else.\n",
    "\n",
    "a= float(input(\"Enter the length of side 1:- \"))\n",
    "b= float(input(\"Enter the length of side 2:- \"))\n",
    "c= float(input(\"Enter the length of side 3:- \"))\n",
    "if a==b and b==c and a==c:\n",
    "    print(\"It is an equilateral triangle\")\n",
    "elif a==b or b==c or c==a:\n",
    "    print(\"It is an isosceles triangle\")\n",
    "else:\n",
    "    print(\"It is an scalene triangle\")"
   ]
  },
  {
   "cell_type": "code",
   "execution_count": 12,
   "id": "3f64c8f0-54ac-4c05-a417-01ede6fb6f9c",
   "metadata": {},
   "outputs": [
    {
     "name": "stdin",
     "output_type": "stream",
     "text": [
      "Enter the number:-  4\n"
     ]
    },
    {
     "name": "stdout",
     "output_type": "stream",
     "text": [
      "The day is Thursday\n"
     ]
    }
   ],
   "source": [
    "#13. Write a Python program to determine the day of the week based on a user-provided number\n",
    "#using if-else.\n",
    "\n",
    "day=int(input(\"Enter the number:- \"))\n",
    "if day==1:\n",
    "    print(\"The day is Monday\")\n",
    "elif day==2:\n",
    "    print(\"The day is Tuesday\")\n",
    "elif day==3:\n",
    "    print(\"The day is Wednesday\")\n",
    "elif day==4:\n",
    "    print(\"The day is Thursday\")\n",
    "elif day==5:\n",
    "    print(\"The day is Friday\")\n",
    "elif day==6:\n",
    "    print(\"The day is Saturday\")\n",
    "elif day==7:\n",
    "    print(\"The day is Sunday\")\n",
    "else:\n",
    "    print(\"Please enter a number between 1 to 7\")"
   ]
  },
  {
   "cell_type": "code",
   "execution_count": 20,
   "id": "0065aac5-c0c8-4e78-90f8-211d6754bda9",
   "metadata": {},
   "outputs": [],
   "source": [
    "#14. Create a Python program that checks if a given year is a leap year using both if-else and a function.\n",
    "\n",
    "def leap_year(a):\n",
    "    if year%4==0 and year%100!=0 or year%400==0:\n",
    "        print(\"It is a leap year\") \n",
    "    else:\n",
    "        print(\"It is not a leap year\") \n",
    "    return (leap_year)\n"
   ]
  },
  {
   "cell_type": "code",
   "execution_count": 21,
   "id": "86a4a63f-f93e-4aba-bb7e-fe9a9bd1e5c5",
   "metadata": {},
   "outputs": [
    {
     "name": "stdout",
     "output_type": "stream",
     "text": [
      "It is a leap year\n"
     ]
    },
    {
     "data": {
      "text/plain": [
       "<function __main__.leap_year(a)>"
      ]
     },
     "execution_count": 21,
     "metadata": {},
     "output_type": "execute_result"
    }
   ],
   "source": [
    "leap_year(2000)\n"
   ]
  },
  {
   "cell_type": "code",
   "execution_count": 22,
   "id": "ffb7de6c-6710-4476-a313-b51f42f91af1",
   "metadata": {},
   "outputs": [
    {
     "ename": "AssertionError",
     "evalue": "",
     "output_type": "error",
     "traceback": [
      "\u001b[0;31m---------------------------------------------------------------------------\u001b[0m",
      "\u001b[0;31mAssertionError\u001b[0m                            Traceback (most recent call last)",
      "Cell \u001b[0;32mIn[22], line 9\u001b[0m\n\u001b[1;32m      6\u001b[0m \u001b[38;5;28;01massert\u001b[39;00m x \u001b[38;5;241m==\u001b[39m \u001b[38;5;124m\"\u001b[39m\u001b[38;5;124mhello\u001b[39m\u001b[38;5;124m\"\u001b[39m\n\u001b[1;32m      8\u001b[0m \u001b[38;5;66;03m#if condition returns False, AssertionError is raised:\u001b[39;00m\n\u001b[0;32m----> 9\u001b[0m \u001b[38;5;28;01massert\u001b[39;00m x \u001b[38;5;241m==\u001b[39m \u001b[38;5;124m\"\u001b[39m\u001b[38;5;124mgoodbye\u001b[39m\u001b[38;5;124m\"\u001b[39m\n",
      "\u001b[0;31mAssertionError\u001b[0m: "
     ]
    }
   ],
   "source": [
    "#15. How do you use the \"assert\" statement in Python to add debugging checks within if-else blocks?\n",
    "\n",
    "x = \"hello\"\n",
    "\n",
    "#if condition returns True, then nothing happens:\n",
    "assert x == \"hello\"\n",
    "\n",
    "#if condition returns False, AssertionError is raised:\n",
    "assert x == \"goodbye\""
   ]
  },
  {
   "cell_type": "code",
   "execution_count": 23,
   "id": "92dbc7af-a6a0-49ee-887e-e9d82d624067",
   "metadata": {},
   "outputs": [
    {
     "name": "stdin",
     "output_type": "stream",
     "text": [
      "Enter your age 60\n"
     ]
    },
    {
     "name": "stdout",
     "output_type": "stream",
     "text": [
      "you are eligible for the senior citizen discount\n"
     ]
    }
   ],
   "source": [
    "#16. Create a Python program that determines the eligibility of a person for a senior citizen discount based on age using if-else.\n",
    "\n",
    "age=int(input(\"Enter your age\"))\n",
    "if age>=0:\n",
    "    print(\"you are eligible for the senior citizen discount\")\n",
    "else:\n",
    "    print(\"you are not eligible for the senior citizen discount\")"
   ]
  },
  {
   "cell_type": "code",
   "execution_count": 24,
   "id": "3252c1fd-d3c7-4afe-b6d0-306629288b8d",
   "metadata": {},
   "outputs": [
    {
     "name": "stdin",
     "output_type": "stream",
     "text": [
      "Enter a character:-  a\n"
     ]
    },
    {
     "name": "stdout",
     "output_type": "stream",
     "text": [
      "The given character is lowercase\n"
     ]
    }
   ],
   "source": [
    "#17. Write a Python program to categorize a given character as uppercase, lowercase, or neither using if-else\n",
    "\n",
    "a=input(\"Enter a character:- \")\n",
    "if a==a.upper():\n",
    "    print(\"The given character is uppercase\")\n",
    "if a==a.lower():\n",
    "    print(\"The given character is lowercase\")\n",
    "else:\n",
    "    print(\"The given character is neither\")"
   ]
  },
  {
   "cell_type": "code",
   "execution_count": 25,
   "id": "3e3611a5-8228-4cb0-b90b-b4fa033eb6d4",
   "metadata": {},
   "outputs": [
    {
     "name": "stdin",
     "output_type": "stream",
     "text": [
      "Enter the coefficient of a:-  1\n",
      "Enter the coefficient of b:-  -7\n",
      "Enter the coefficient of c:-  11\n"
     ]
    },
    {
     "name": "stdout",
     "output_type": "stream",
     "text": [
      "The two distinct roots are 4.618033988749895 and 2.381966011250105\n"
     ]
    }
   ],
   "source": [
    "#18. Write a Python program to determine the roots of a quadratic equation using if-else.\n",
    "\n",
    "a= int(input(\"Enter the coefficient of a:- \"))\n",
    "b= int(input(\"Enter the coefficient of b:- \"))\n",
    "c= int(input(\"Enter the coefficient of c:- \"))\n",
    "discrimanant= b**2- 4*a*c\n",
    "if discrimanant>0:\n",
    "    root1= (-b + (discrimanant**0.5))/2*a\n",
    "    root2= (-b - (discrimanant**0.5))/2*a\n",
    "    print(f\"The two distinct roots are {root1} and {root2}\")\n",
    "elif discrimanant== 0:\n",
    "    root1=-b/2*a\n",
    "    print(\"The root is \", root1)\n",
    "else:\n",
    "   realpart= -b/2*a\n",
    "   imaginary= (abs(discriminant))**0.5/ 2*a\n",
    "   print(\"Complex roots: Root1 =\", real_part, \"+\", imaginary_part, \"i and Root2 =\", real_part, \"-\", imaginary_part, \"i\")           "
   ]
  },
  {
   "cell_type": "code",
   "execution_count": 26,
   "id": "6cf9f650-48bf-4c6f-9f5f-50eddf4036d4",
   "metadata": {},
   "outputs": [
    {
     "name": "stdin",
     "output_type": "stream",
     "text": [
      "Enter a year:-  2000\n"
     ]
    },
    {
     "name": "stdout",
     "output_type": "stream",
     "text": [
      "2000 is a century year\n"
     ]
    }
   ],
   "source": [
    "#19. Create a Python program that checks if a given year is a century year or not using if-else.\n",
    "\n",
    "a=int(input(\"Enter a year:- \"))\n",
    "if a%400==0:\n",
    "    print(f\"{a} is a century year\")\n",
    "else:\n",
    "    print(f\"{a} is not a century year\")"
   ]
  },
  {
   "cell_type": "code",
   "execution_count": 36,
   "id": "b7ef95da-3659-4508-8ad5-217a1f4ec89b",
   "metadata": {},
   "outputs": [
    {
     "name": "stdin",
     "output_type": "stream",
     "text": [
      "Enter a number:-  4\n"
     ]
    },
    {
     "name": "stdout",
     "output_type": "stream",
     "text": [
      "The number is a perfect square\n"
     ]
    }
   ],
   "source": [
    "#20. Write a Python program to determine if a given number is a perfect square using if-else.\n",
    "\n",
    "num=int(input(\"Enter a number:- \"))\n",
    "import math   \n",
    "sqrt_num = math.sqrt(num)  \n",
    "if sqrt_num.is_integer():  \n",
    "    print(\"The number is a perfect square\")  \n",
    "else:  \n",
    "    print(\"The number is not a perfect square\")  "
   ]
  },
  {
   "cell_type": "code",
   "execution_count": 37,
   "id": "c6aab246-7755-4d1e-a4c4-16286244f494",
   "metadata": {},
   "outputs": [],
   "source": [
    "#21. Explain the purpose of the \"continue\" and \"break\" statements within if-else loops.\n",
    "\n",
    "#The break statement is used to terminate the loop immediately. \n",
    "#The continue statement is used to skip the current iteration of the loop."
   ]
  },
  {
   "cell_type": "code",
   "execution_count": 38,
   "id": "75029500-b219-4dca-8d06-00acabddfea9",
   "metadata": {},
   "outputs": [
    {
     "name": "stdin",
     "output_type": "stream",
     "text": [
      "Enter your weight in kg:-  76\n",
      "Enter your height in m:-  1.65\n"
     ]
    },
    {
     "name": "stdout",
     "output_type": "stream",
     "text": [
      "You are normal\n"
     ]
    }
   ],
   "source": [
    "#22. Create a Python program that calculates the BMI (Body Mass Index) of a person based on their\n",
    "#weight and height using if-else.\n",
    "\n",
    "weight= float(input(\"Enter your weight in kg:- \"))\n",
    "height= float(input(\"Enter your height in m:- \"))\n",
    "BMI= weight/ height**2\n",
    "if BMI<18.5:\n",
    "    print(\"You are underweight\")\n",
    "elif 18.8<=BMI>=24.9:\n",
    "    print(\"You are normal\")\n",
    "elif 25<=BMI>= 29.9:\n",
    "    print(\"You are overweight\")\n",
    "else:\n",
    "    print(\"You are obese\")"
   ]
  },
  {
   "cell_type": "code",
   "execution_count": 61,
   "id": "00d0c9d6-7e0c-4f33-979a-1eb51ed67cf7",
   "metadata": {},
   "outputs": [
    {
     "name": "stdout",
     "output_type": "stream",
     "text": [
      "[56, 67, 88]\n"
     ]
    }
   ],
   "source": [
    "#23. How can you use the \"filter()\" function with if-else statements to filter elements from a list?\n",
    "\n",
    "a=[34,56,22,34,67,88]\n",
    "def cube(x):\n",
    "    if x>40:\n",
    "        return x\n",
    "b=list(filter(cube,a))\n",
    "print(b)"
   ]
  },
  {
   "cell_type": "code",
   "execution_count": 63,
   "id": "b8b64c6d-8f94-4698-8c35-02fd73cc0aa0",
   "metadata": {},
   "outputs": [
    {
     "name": "stdout",
     "output_type": "stream",
     "text": [
      "4 is not a prime number\n"
     ]
    }
   ],
   "source": [
    "#24. Write a Python program to determine if a given number is prime or not using if-else.\n",
    "\n",
    "n = 6\n",
    "\n",
    "# Check if the number is greater than 1\n",
    "\n",
    "if n > 1:\n",
    "\tfor i in range(2, int(n/2)+1):\n",
    "\t\tif (n % i) == 0:\n",
    "\t\t\tprint(num, \"is not a prime number\")\n",
    "\t\tbreak\n",
    "\telse:\n",
    "\t\tprint(n, \"is a prime number\")\n",
    "# If the number is less than 1, its also not a prime number.\n",
    "else:\n",
    "\tprint(n, \"is not a prime number\")"
   ]
  },
  {
   "cell_type": "code",
   "execution_count": 1,
   "id": "a17e0a8f-880a-42e1-9fb3-63f1423632a4",
   "metadata": {},
   "outputs": [],
   "source": [
    "#Map :-"
   ]
  },
  {
   "cell_type": "code",
   "execution_count": 2,
   "id": "22bc919f-6a96-46c0-83f7-06e22503c15a",
   "metadata": {},
   "outputs": [
    {
     "name": "stdout",
     "output_type": "stream",
     "text": [
      "[2, 4, 6, 8]\n"
     ]
    }
   ],
   "source": [
    "#1. Explain the purpose of the `map()` function in Python and provide an example of how it can be\n",
    "#used to apply a function to each element of an iterable.\n",
    "\n",
    "#Map in Python is a function that works as an iterator to return a result after applying a function \n",
    "#to every item of an iterable (tuple, lists, etc.). It is used when you want to apply a single transformation \n",
    "#function to all the iterable elements. \n",
    "#The iterable and function are passed as arguments to the map in Python.\n",
    "\n",
    "def addition(n): \n",
    "    return n + n \n",
    "  \n",
    "# We double all numbers using map() \n",
    "numbers = (1, 2, 3, 4) \n",
    "result = map(addition, numbers) \n",
    "print(list(result)) "
   ]
  },
  {
   "cell_type": "code",
   "execution_count": 4,
   "id": "1632e4cc-b88f-439b-bf19-cd7bfc3e2766",
   "metadata": {},
   "outputs": [
    {
     "name": "stdout",
     "output_type": "stream",
     "text": [
      "[9, 36, 25, 16, 4, 1]\n"
     ]
    }
   ],
   "source": [
    "#2. Write a Python program that uses the `map()` function to square each element of a list of\n",
    "#numbers.\n",
    "\n",
    "def square(n):\n",
    "    return n*n\n",
    "\n",
    "n=[3,6,5,4,2,1]\n",
    "result= list(map(square,n))\n",
    "print (result)"
   ]
  },
  {
   "cell_type": "code",
   "execution_count": 5,
   "id": "1dd9883b-3d3a-41c8-9bc0-02918d14dbfb",
   "metadata": {},
   "outputs": [],
   "source": [
    "#3.How does the `map()` function differ from a list comprehension in Python, and when would you choose \n",
    "#one over the other?\n",
    "\n",
    "#List comprehension are used when a list of results is required as map only returns a map object and does not return any list. \n",
    "#Map is faster in case of calling an already defined function"
   ]
  },
  {
   "cell_type": "code",
   "execution_count": 6,
   "id": "c473d414-8017-47c9-ab93-7bf1aeb216b6",
   "metadata": {},
   "outputs": [
    {
     "data": {
      "text/plain": [
       "['YELLOW', 'BLUE', 'RED', 'GREEN']"
      ]
     },
     "execution_count": 6,
     "metadata": {},
     "output_type": "execute_result"
    }
   ],
   "source": [
    "#4. Create a Python program that uses the `map()` function to convert a list of names to uppercase.\n",
    "\n",
    "def uppercase(n):\n",
    "    b=n.upper()\n",
    "    return b\n",
    "\n",
    "colours=[\"YEllow\", \"blue\", \"red\" , \"green\"]\n",
    "list(map(uppercase,colours))"
   ]
  },
  {
   "cell_type": "code",
   "execution_count": 7,
   "id": "68ed41bf-8ba8-4f0a-868c-ac8b8f244cc5",
   "metadata": {},
   "outputs": [
    {
     "data": {
      "text/plain": [
       "[6, 4, 3, 5]"
      ]
     },
     "execution_count": 7,
     "metadata": {},
     "output_type": "execute_result"
    }
   ],
   "source": [
    "#5. Write a Python program that uses the `map()` function to calculate the length of each word in a list of strings.\n",
    "\n",
    "def length (n):\n",
    "    b= len(n)\n",
    "    return b\n",
    "\n",
    "colours=[\"YEllow\", \"blue\", \"red\" , \"green\"]\n",
    "list(map(length,colours))"
   ]
  },
  {
   "cell_type": "code",
   "execution_count": 9,
   "id": "c326eb2e-9562-4c8c-9ffa-c8a89cf0e721",
   "metadata": {},
   "outputs": [
    {
     "name": "stdout",
     "output_type": "stream",
     "text": [
      "[6, 4, 3, 5]\n",
      "[7, 13, 6]\n"
     ]
    }
   ],
   "source": [
    "#6. How can you use the `map()` function to apply a custom function to elements of multiple lists\n",
    "#simultaneously in Python?\n",
    "\n",
    "def length (n):\n",
    "    b= len(n)\n",
    "    return b\n",
    "\n",
    "colours=[\"YEllow\", \"blue\", \"red\" , \"green\"]\n",
    "states=[\"Gujarat\",\"Uttar Pradesh\",\"Kerala\"]\n",
    "a=list(map(length,colours))\n",
    "b=list(map(length,states))\n",
    "print(a)\n",
    "print(b)"
   ]
  },
  {
   "cell_type": "code",
   "execution_count": 10,
   "id": "478a1cfe-d808-4801-aee7-6d631ade642f",
   "metadata": {},
   "outputs": [
    {
     "data": {
      "text/plain": [
       "[83.0, 116.0, 147.5, 80.0, 72.5]"
      ]
     },
     "execution_count": 10,
     "metadata": {},
     "output_type": "execute_result"
    }
   ],
   "source": [
    "#7. Create a Python program that uses `map()` to convert a list of temperatures from Celsius to Fahrenheit.\n",
    "\n",
    "\n",
    "def temp(n):\n",
    "    a= (n*1.5)+32\n",
    "    return a\n",
    "\n",
    "temperature=[34,56,77,32,27]\n",
    "list(map(temp,temperature))"
   ]
  },
  {
   "cell_type": "code",
   "execution_count": 11,
   "id": "50cfd3c8-b5bf-41f7-9203-be3fcd6b71e7",
   "metadata": {},
   "outputs": [
    {
     "data": {
      "text/plain": [
       "[5, 7, 3, 5]"
      ]
     },
     "execution_count": 11,
     "metadata": {},
     "output_type": "execute_result"
    }
   ],
   "source": [
    "#8. Write a Python program that uses the `map()` function to round each element of a list of\n",
    "#floating-point numbers to the nearest integer.\n",
    "\n",
    "def round_of(n):\n",
    "    a= round(n)\n",
    "    return a\n",
    "\n",
    "num=[5.45,6.667,3,4.56]\n",
    "list(map(round_of,num))"
   ]
  },
  {
   "cell_type": "code",
   "execution_count": 12,
   "id": "60a219c1-c9ff-4e58-9cec-14dc84ea21dc",
   "metadata": {},
   "outputs": [],
   "source": [
    "#Reduce :-"
   ]
  },
  {
   "cell_type": "code",
   "execution_count": 13,
   "id": "d389acb8-e74c-4ac8-a0ca-93519a12089b",
   "metadata": {},
   "outputs": [
    {
     "name": "stdout",
     "output_type": "stream",
     "text": [
      "10\n"
     ]
    }
   ],
   "source": [
    "#1. What is the `reduce()` function in Python, and what module should you import to use it? Provide an example \n",
    "#of its basic usage.\n",
    "\n",
    "#The reduce(fun,seq) function is used to apply a particular function passed in its argument to all of the\n",
    "#list elements mentioned in the sequence passed along. \n",
    "#This function is defined in “functools” module. \n",
    "#Working : At first step, first two elements of sequence are picked and the result is obtained.\n",
    "#Next step is to apply the same function to the previously attained result and the number just succeeding the second element and the result is again stored.\n",
    "#This process continues till no more elements are left in the container.\n",
    "#The final returned result is returned and printed on console.\n",
    "\n",
    "from functools import reduce \n",
    "\n",
    "nums = [1, 2, 3, 4]\n",
    "ans = reduce(lambda x, y: x + y, nums)\n",
    "print(ans) "
   ]
  },
  {
   "cell_type": "code",
   "execution_count": 15,
   "id": "029f29d7-0e55-4d99-adce-0f32764e824c",
   "metadata": {},
   "outputs": [
    {
     "name": "stdout",
     "output_type": "stream",
     "text": [
      "24\n"
     ]
    }
   ],
   "source": [
    "#2. Write a Python program that uses the `reduce()` function to find the product of all elements in a\n",
    "#list.\n",
    "\n",
    "from functools import reduce \n",
    "\n",
    "nums = [1, 2, 3, 4]\n",
    "ans=reduce(lambda x,y: x*y, nums)\n",
    "print(ans)"
   ]
  },
  {
   "cell_type": "code",
   "execution_count": 16,
   "id": "d120843c-4417-4562-8508-61b93bb76b42",
   "metadata": {},
   "outputs": [
    {
     "name": "stdout",
     "output_type": "stream",
     "text": [
      "4\n"
     ]
    }
   ],
   "source": [
    "#3. Create a Python program that uses `reduce()` to find the maximum element in a list of numbers.\n",
    "\n",
    "from functools import reduce \n",
    "\n",
    "nums = [1, 2, 3, 4]\n",
    "ans=reduce(lambda x,y: x if x>y else y , nums)\n",
    "print(ans)"
   ]
  },
  {
   "cell_type": "code",
   "execution_count": 2,
   "id": "ebf75985-e07e-45ed-9750-43bd28674a37",
   "metadata": {},
   "outputs": [
    {
     "name": "stdout",
     "output_type": "stream",
     "text": [
      "apple, banana, orange, grape\n"
     ]
    }
   ],
   "source": [
    "#4. How can you use the `reduce()` function to concatenate a list of strings into a single string?\n",
    "\n",
    "from functools import reduce\n",
    "\n",
    "# Method 3: Using the reduce() function\n",
    "fruits = ['apple', 'banana', 'orange', 'grape']\n",
    "\n",
    "def concatenate_strings(str1, str2):\n",
    "    return str1 + ', ' + str2\n",
    "\n",
    "result = reduce(concatenate_strings, fruits)\n",
    "\n",
    "print(result)"
   ]
  },
  {
   "cell_type": "code",
   "execution_count": 11,
   "id": "38db8f93-899e-4721-a577-51ab043309db",
   "metadata": {},
   "outputs": [
    {
     "name": "stdin",
     "output_type": "stream",
     "text": [
      "Enter a number:-  4\n"
     ]
    },
    {
     "name": "stdout",
     "output_type": "stream",
     "text": [
      "24\n"
     ]
    }
   ],
   "source": [
    "#5. Write a Python program that calculates the factorial of a number using the `reduce()` function\n",
    "\n",
    "from functools import reduce\n",
    "\n",
    "n=int(input(\"Enter a number:- \"))\n",
    "if n==0:\n",
    "    print(\"factorial is 1\")\n",
    "ans= reduce(lambda x,y: x*y, range(1,n+1))\n",
    "print(ans)\n"
   ]
  },
  {
   "cell_type": "code",
   "execution_count": 12,
   "id": "399e8aaf-8f93-4045-89ab-471c071280b6",
   "metadata": {},
   "outputs": [
    {
     "name": "stdout",
     "output_type": "stream",
     "text": [
      "5\n"
     ]
    }
   ],
   "source": [
    "#6. Create a Python program that uses `reduce()` to find the GCD (Greatest Common Divisor) of a list of numbers.\n",
    "\n",
    "def gcd(x, y):\n",
    "   gcd = 1   \n",
    "   if x % y == 0:\n",
    "       return y   \n",
    "   for k in range(int(y / 2), 0, -1):\n",
    "       if x % k == 0 and y % k == 0:\n",
    "           gcd = k\n",
    "           break \n",
    "   return gcd\n",
    "a=[25,55,65,75]\n",
    "ans=reduce(gcd,a)\n",
    "print(ans)"
   ]
  },
  {
   "cell_type": "code",
   "execution_count": 23,
   "id": "7b034dce-9723-44dd-80e7-cbc5dcf06d45",
   "metadata": {},
   "outputs": [
    {
     "name": "stdin",
     "output_type": "stream",
     "text": [
      "Enter a number:  34\n"
     ]
    },
    {
     "name": "stdout",
     "output_type": "stream",
     "text": [
      "7\n"
     ]
    }
   ],
   "source": [
    "#7. Write a Python program that uses the `reduce()` function to find the sum of the digits of a given number.\n",
    "\n",
    "def sum_of_digits(a, b):\n",
    "    return a + int(b)\n",
    "\n",
    "# Input a number as a string\n",
    "number = input(\"Enter a number: \")\n",
    "\n",
    "# Use reduce to apply the sum_of_digits function to each digit\n",
    "result = reduce(sum_of_digits, number, 0)\n",
    "\n",
    "print(result)"
   ]
  },
  {
   "cell_type": "code",
   "execution_count": 24,
   "id": "b75c32da-f3ac-499b-86b0-1c1507af4fef",
   "metadata": {},
   "outputs": [],
   "source": [
    "#Filter :-"
   ]
  },
  {
   "cell_type": "code",
   "execution_count": 26,
   "id": "4720612d-caee-41ed-aac8-41defd202259",
   "metadata": {},
   "outputs": [
    {
     "data": {
      "text/plain": [
       "[4, 2, 4, 6]"
      ]
     },
     "execution_count": 26,
     "metadata": {},
     "output_type": "execute_result"
    }
   ],
   "source": [
    "#1. Explain the purpose of the `filter()` function in Python and provide an example of how it can be\n",
    "#used to filter elements from an iterable.\n",
    "\n",
    "#The filter() function selects elements from an iterable (list, tuple etc.) based on the output of a function. \n",
    "#The function is applied to each element of the iterable and if it returns True , the element is selected by the filter() function.\n",
    "\n",
    "n=[4,5,2,3,4,5,6]\n",
    "list(filter(lambda x: x%2==0 , n))"
   ]
  },
  {
   "cell_type": "code",
   "execution_count": 27,
   "id": "206b58e7-c54c-457b-b9fe-e769defc109a",
   "metadata": {},
   "outputs": [
    {
     "data": {
      "text/plain": [
       "[4, 2, 4, 6]"
      ]
     },
     "execution_count": 27,
     "metadata": {},
     "output_type": "execute_result"
    }
   ],
   "source": [
    "#2. Write a Python program that uses the `filter()` function to select even numbers from a list of integers.\n",
    "\n",
    "n=[4,5,2,3,4,5,6]\n",
    "list(filter(lambda x: x%2==0 , n))"
   ]
  },
  {
   "cell_type": "code",
   "execution_count": 3,
   "id": "c817d103-ce4a-4662-9f83-d22b89b0a9af",
   "metadata": {},
   "outputs": [
    {
     "name": "stdout",
     "output_type": "stream",
     "text": [
      "Names starting with the letter D are:\n",
      "David\n"
     ]
    }
   ],
   "source": [
    "#3. Create a Python program that uses the `filter()` function to select names that start with a specific\n",
    "#letter from a list of strings.\n",
    "\n",
    "names = [\"Alice\", \"Bob\", \"Charlie\", \"David\", \"Eve\", \"Frank\", \"Grace\"]\n",
    "letter_to_filter = \"D\"\n",
    "filtered_names = list(filter(lambda name: name.startswith(letter_to_filter), names))\n",
    "print(\"Names starting with the letter\", letter_to_filter, \"are:\")\n",
    "for name in filtered_names:\n",
    "    print(name)\n"
   ]
  },
  {
   "cell_type": "code",
   "execution_count": 4,
   "id": "e306d416-deab-42d5-b1dd-a800dfeabe64",
   "metadata": {},
   "outputs": [
    {
     "name": "stdout",
     "output_type": "stream",
     "text": [
      "[2, 3, 5, 7, 11]\n"
     ]
    }
   ],
   "source": [
    "#4. Write a Python program that uses the `filter()` function to select prime numbers from a list of integers.\n",
    "\n",
    "def is_prime(num):\n",
    "    if num <= 1:\n",
    "        return False\n",
    "    for i in range(2, int(num ** 0.5) + 1):\n",
    "        if num % i == 0:\n",
    "            return False\n",
    "    return True\n",
    "numbers = [2, 3, 4, 5, 6, 7, 8, 9, 10, 11]\n",
    "prime_numbers = list(filter(is_prime, numbers))\n",
    "print(prime_numbers)\n"
   ]
  },
  {
   "cell_type": "code",
   "execution_count": 6,
   "id": "d1dd8b60-5570-4a8f-b835-ba1b3ee5c721",
   "metadata": {},
   "outputs": [
    {
     "name": "stdout",
     "output_type": "stream",
     "text": [
      "List after removing None values:\n",
      "[1, 2, 3, 4, 5]\n"
     ]
    }
   ],
   "source": [
    "#5. How can you use the `filter()` function to remove None values from a list in Python?\n",
    "\n",
    "my_list = [1, None, 2, None, 3, None, 4, 5, None]\n",
    "filtered_list = list(filter(lambda x: x is not None, my_list))\n",
    "print(\"List after removing None values:\")\n",
    "print(filtered_list)\n"
   ]
  },
  {
   "cell_type": "code",
   "execution_count": 12,
   "id": "680bae22-6774-4c2f-9fbe-c5d0a5d7d695",
   "metadata": {},
   "outputs": [
    {
     "name": "stdout",
     "output_type": "stream",
     "text": [
      "Words longer than 5 characters are:\n",
      "banana\n",
      "cherry\n",
      "elderberry\n",
      "grapefruit\n"
     ]
    }
   ],
   "source": [
    "#6. Create a Python program that uses `filter()` to select words longer than a certain length from a\n",
    "#list of strings\n",
    "\n",
    "word_list = [\"apple\", \"banana\", \"cherry\", \"date\", \"elderberry\", \"fig\", \"grapefruit\"]\n",
    "min_length = 5\n",
    "filtered_words = list(filter(lambda word: len(word) > min_length, word_list))\n",
    "print(\"Words longer than\", min_length, \"characters are:\")\n",
    "for word in filtered_words:\n",
    "    print(word)\n"
   ]
  },
  {
   "cell_type": "code",
   "execution_count": 19,
   "id": "9b3d3b8c-5494-4341-8371-36d79eb32b3a",
   "metadata": {},
   "outputs": [
    {
     "data": {
      "text/plain": [
       "[5, 6, 7, 8, 9, 10, 11]"
      ]
     },
     "execution_count": 19,
     "metadata": {},
     "output_type": "execute_result"
    }
   ],
   "source": [
    "#7. Write a Python program that uses the `filter()` function to select elements greater than a\n",
    "# specified threshold from a list of values.\n",
    "\n",
    "numbers = [2, 3, 4, 5, 6, 7, 8, 9, 10, 11]\n",
    "\n",
    "list(filter(lambda x: x>4  , numbers))"
   ]
  },
  {
   "cell_type": "code",
   "execution_count": 20,
   "id": "831728f2-d031-45f7-9c37-3e689cfc93e8",
   "metadata": {},
   "outputs": [],
   "source": [
    "#Recursion:"
   ]
  },
  {
   "cell_type": "code",
   "execution_count": 1,
   "id": "bef2aaa4-d214-4e57-b0a9-77dc18644d0c",
   "metadata": {},
   "outputs": [],
   "source": [
    "#1. Explain the concept of recursion in Python. How does it differ from iteration?\n",
    "\n",
    "#Recursion is a technique in which the function calls itself in its body to solve the problem, typically breaking into smaller and more manageable sub-problems. \n",
    "#In contrast, Iteration is a technique that repetitively executes a code block until the condition is unmet."
   ]
  },
  {
   "cell_type": "code",
   "execution_count": 2,
   "id": "39a96fdd-024d-491b-b183-5ea7923111e2",
   "metadata": {},
   "outputs": [
    {
     "name": "stdout",
     "output_type": "stream",
     "text": [
      "5040\n"
     ]
    }
   ],
   "source": [
    "#2. Write a Python program to calculate the factorial of a number using recursion.\n",
    "\n",
    "def recur_factorial(n):\n",
    "   if n == 1:\n",
    "       return n\n",
    "   else:\n",
    "       return n*recur_factorial(n-1)\n",
    "\n",
    "print (recur_factorial(7))"
   ]
  },
  {
   "cell_type": "code",
   "execution_count": 4,
   "id": "47f8f102-d636-4abc-a289-a657252b3e4f",
   "metadata": {},
   "outputs": [
    {
     "name": "stdin",
     "output_type": "stream",
     "text": [
      "Enter a number:-  10\n"
     ]
    },
    {
     "name": "stdout",
     "output_type": "stream",
     "text": [
      "34\n"
     ]
    }
   ],
   "source": [
    "#3. Create a recursive Python function to find the nth Fibonacci number.\n",
    "\n",
    "def recur_fibonacci(n):\n",
    "    if n==0:\n",
    "        print(\"Incorrect input\")\n",
    "    elif n==1:\n",
    "        return 0\n",
    "    elif n==2:\n",
    "        return 1\n",
    "    else:\n",
    "        return recur_fibonacci(n-1)+ recur_fibonacci(n-2)\n",
    "\n",
    "a=int(input(\"Enter a number:- \"))\n",
    "print(recur_fibonacci(a))\n",
    "    \n"
   ]
  },
  {
   "cell_type": "code",
   "execution_count": 6,
   "id": "3d1be3b5-ab7c-48bf-a2ec-b988c2a61f93",
   "metadata": {},
   "outputs": [
    {
     "name": "stdout",
     "output_type": "stream",
     "text": [
      "15\n"
     ]
    }
   ],
   "source": [
    "#4. Write a recursive Python function to calculate the sum of all elements in a list.\n",
    "\n",
    "def total(n):\n",
    "    sum=0\n",
    "    for i in n:\n",
    "        sum=sum+i\n",
    "    return sum\n",
    "\n",
    "num=[1,2,3,4,5]\n",
    "print(total(num))\n",
    "        "
   ]
  },
  {
   "cell_type": "code",
   "execution_count": 7,
   "id": "1c1d3988-efc5-43ff-9b41-9b49d7e36ddb",
   "metadata": {},
   "outputs": [],
   "source": [
    "#5. How can you prevent a recursive function from running indefinitely, causing a stack overflow error?\n",
    "\n",
    "#To prevent a recursive function from running indefinitely, causing a stack overflow error, you can use the following techniques:\n",
    "\n",
    "#Tail Recursion: This is a technique where the recursive function is written in such a way that the last operation of the function is the recursive call. This allows the compiler to optimize the code and avoid using the call stack, which can cause a stack overflow error.\n",
    "\n",
    "#Iteration: You can use iteration instead of recursion to solve the problem. This involves using a loop to perform the same operation multiple times instead of calling a function recursively.\n",
    "\n",
    "#Increase Stack Size: You can increase the size of the stack to allow for more recursive calls. However, this is not always a good solution as it can lead to other problems such as memory issues.\n",
    "\n",
    "#Use an Explicit Stack: You can use an explicit stack data structure to keep track of the function calls instead of using the call stack. This allows you to control the amount of memory used and avoid a stack overflow error."
   ]
  },
  {
   "cell_type": "code",
   "execution_count": 11,
   "id": "de3ba8c3-22c8-4aea-a2cf-4a267fe9392d",
   "metadata": {},
   "outputs": [
    {
     "name": "stdout",
     "output_type": "stream",
     "text": [
      "The GCD of 18 and 48 is 6\n"
     ]
    }
   ],
   "source": [
    "#6. Create a recursive Python function to find the greatest common divisor (GCD) of two numbers\n",
    "#using the Euclidean algorithm.\n",
    "\n",
    "def gcd(a, b):\n",
    "    if b == 0:\n",
    "        return a\n",
    "    else:\n",
    "        return gcd(b, a % b)\n",
    "\n",
    "# Example usage:\n",
    "num1 = 18\n",
    "num2 = 48\n",
    "result = gcd(num1, num2)\n",
    "print(f\"The GCD of {num1} and {num2} is {result}\")"
   ]
  },
  {
   "cell_type": "code",
   "execution_count": 12,
   "id": "ca9d2dae-1204-4cb2-9c5f-7f37d980486d",
   "metadata": {},
   "outputs": [
    {
     "name": "stdout",
     "output_type": "stream",
     "text": [
      "The original string is : Geeksforgeeks\n",
      "The reversed string(using recursion) is : skeegrofskeeG\n"
     ]
    }
   ],
   "source": [
    "#7. Write a recursive Python function to reverse a string.\n",
    "\n",
    "def reverse(s):\n",
    "    if len(s) == 0:\n",
    "        return s\n",
    "    else:\n",
    "        return reverse(s[1:]) + s[0]\n",
    " \n",
    " \n",
    "s = \"Geeksforgeeks\"\n",
    " \n",
    "print(\"The original string is : \", end=\"\")\n",
    "print(s)\n",
    " \n",
    "print(\"The reversed string(using recursion) is : \", end=\"\")\n",
    "print(reverse(s))"
   ]
  },
  {
   "cell_type": "code",
   "execution_count": 26,
   "id": "1ac85226-877b-451b-86ed-3f118a04cb21",
   "metadata": {},
   "outputs": [
    {
     "name": "stdout",
     "output_type": "stream",
     "text": [
      "2 to the power 3 is 8\n"
     ]
    }
   ],
   "source": [
    "#8. Create a recursive Python function to calculate the power of a number (x^n).\n",
    "\n",
    "def power(a, b):\n",
    "    if b != 0:\n",
    "        return a * power(a, b - 1)\n",
    "    else:\n",
    "        return 1\n",
    "a = 2\n",
    "b = 3\n",
    "print(a, \"to the power\", b, \"is\", power(a, b))"
   ]
  },
  {
   "cell_type": "code",
   "execution_count": 30,
   "id": "9b7198ae-9732-43f1-92bc-eb9c16eca0f9",
   "metadata": {},
   "outputs": [
    {
     "name": "stdin",
     "output_type": "stream",
     "text": [
      "Enter a string  abc\n"
     ]
    },
    {
     "name": "stdout",
     "output_type": "stream",
     "text": [
      "abccb\n",
      "bacca\n",
      "cabba\n",
      "\n",
      "\n"
     ]
    }
   ],
   "source": [
    "#9. Write a recursive Python function to find all permutations of a given string.\n",
    "\n",
    "def perms(s):\n",
    "  if(len(s)==1):\n",
    "    return s\n",
    "\n",
    "  res = ''\n",
    "  for x in range(len(s)):\n",
    "\n",
    "    res += s[x] + perms(s[0:x] + s[x+1:len(s)])\n",
    "\n",
    "  return res + '\\n'\n",
    "a=input(\"Enter a string \")\n",
    "print(perms(a))"
   ]
  },
  {
   "cell_type": "code",
   "execution_count": 6,
   "id": "10addeb6-29f1-4e5d-b685-007997a9a51a",
   "metadata": {},
   "outputs": [
    {
     "name": "stdin",
     "output_type": "stream",
     "text": [
      "Enter a string:-  trut\n"
     ]
    },
    {
     "name": "stdout",
     "output_type": "stream",
     "text": [
      "False\n"
     ]
    },
    {
     "ename": "TypeError",
     "evalue": "can only concatenate str (not \"int\") to str",
     "output_type": "error",
     "traceback": [
      "\u001b[0;31m---------------------------------------------------------------------------\u001b[0m",
      "\u001b[0;31mTypeError\u001b[0m                                 Traceback (most recent call last)",
      "Cell \u001b[0;32mIn[6], line 12\u001b[0m\n\u001b[1;32m     10\u001b[0m r\u001b[38;5;241m=\u001b[39ma[\u001b[38;5;241m-\u001b[39m\u001b[38;5;241m1\u001b[39m]\n\u001b[1;32m     11\u001b[0m a\u001b[38;5;241m=\u001b[39m\u001b[38;5;28minput\u001b[39m(\u001b[38;5;124m\"\u001b[39m\u001b[38;5;124mEnter a string:- \u001b[39m\u001b[38;5;124m\"\u001b[39m)\n\u001b[0;32m---> 12\u001b[0m check\u001b[38;5;241m=\u001b[39m \u001b[43mis_palindrome\u001b[49m\u001b[43m(\u001b[49m\u001b[43ml\u001b[49m\u001b[43m,\u001b[49m\u001b[43mr\u001b[49m\u001b[43m,\u001b[49m\u001b[43ma\u001b[49m\u001b[43m)\u001b[49m\n",
      "Cell \u001b[0;32mIn[6], line 8\u001b[0m, in \u001b[0;36mis_palindrome\u001b[0;34m(l, r, a)\u001b[0m\n\u001b[1;32m      6\u001b[0m \u001b[38;5;28;01melse\u001b[39;00m:\n\u001b[1;32m      7\u001b[0m     \u001b[38;5;28mprint\u001b[39m (\u001b[38;5;124m\"\u001b[39m\u001b[38;5;124mFalse\u001b[39m\u001b[38;5;124m\"\u001b[39m)\n\u001b[0;32m----> 8\u001b[0m \u001b[38;5;28;01mreturn\u001b[39;00m is_palindrome(\u001b[43ml\u001b[49m\u001b[38;5;241;43m+\u001b[39;49m\u001b[38;5;241;43m1\u001b[39;49m,r\u001b[38;5;241m-\u001b[39m\u001b[38;5;241m1\u001b[39m)\n",
      "\u001b[0;31mTypeError\u001b[0m: can only concatenate str (not \"int\") to str"
     ]
    }
   ],
   "source": [
    "#10. Write a recursive Python function to check if a string is a palindrome.\n",
    "\n",
    "def is_palindrome(l,r,a):\n",
    "    if l[0]==r[-1]:\n",
    "        print(\"True\")\n",
    "    else:\n",
    "        print (\"False\")\n",
    "    return is_palindrome(l+1,r-1)\n",
    "l=a[0]\n",
    "r=a[-1]\n",
    "a=input(\"Enter a string:- \")\n",
    "check= is_palindrome(l,r,a)"
   ]
  },
  {
   "cell_type": "code",
   "execution_count": 10,
   "id": "18510425-bac6-416d-b641-0e93bdeb318e",
   "metadata": {},
   "outputs": [
    {
     "name": "stdout",
     "output_type": "stream",
     "text": [
      "The original list is : [4, 5, 6, 7, 3, 8]\n",
      "The combinations of elements till length N : [(4,), (5,), (6,), (7,), (3,), (8,), (4, 5), (4, 6), (4, 7), (4, 3), (4, 8), (5, 6), (5, 7), (5, 3), (5, 8), (6, 7), (6, 3), (6, 8), (7, 3), (7, 8), (3, 8), (4, 5, 6), (4, 5, 7), (4, 5, 3), (4, 5, 8), (4, 6, 7), (4, 6, 3), (4, 6, 8), (4, 7, 3), (4, 7, 8), (4, 3, 8), (5, 6, 7), (5, 6, 3), (5, 6, 8), (5, 7, 3), (5, 7, 8), (5, 3, 8), (6, 7, 3), (6, 7, 8), (6, 3, 8), (7, 3, 8)]\n"
     ]
    }
   ],
   "source": [
    "#11. Create a recursive Python function to generate all possible combinations of a list of elements.\n",
    "\n",
    "from itertools import combinations\n",
    " \n",
    "# initializing list\n",
    "test_list = [4, 5, 6, 7, 3, 8]\n",
    " \n",
    "# printing original list\n",
    "print(\"The original list is : \" +  str(test_list))\n",
    " \n",
    "# Combinations of elements till size N in list\n",
    "# Using loop + extend() + combinations()\n",
    "res = []\n",
    "for sub in range(3):\n",
    "    res.extend(combinations(test_list, sub + 1))\n",
    " \n",
    "# Printing result\n",
    "print(\"The combinations of elements till length N : \" +  str(res))\n"
   ]
  },
  {
   "cell_type": "code",
   "execution_count": 11,
   "id": "ccf8b42b-b5b8-4bdb-922a-d9852a0c7ac3",
   "metadata": {},
   "outputs": [],
   "source": [
    "#Basics of Functions:"
   ]
  },
  {
   "cell_type": "code",
   "execution_count": 12,
   "id": "68f30e99-5ba6-4477-9b96-e7346957af73",
   "metadata": {},
   "outputs": [],
   "source": [
    "#1. What is a function in Python, and why is it used?\n",
    "\n",
    "#You use functions in programming to bundle a set of instructions that you want to use repeatedly or that, because of their complexity, are better self-contained in a sub-program and called when needed. \n",
    "#That means that a function is a piece of code written to carry out a specified task."
   ]
  },
  {
   "cell_type": "code",
   "execution_count": 13,
   "id": "634451bb-c488-4404-9aae-d7cea7f9fdea",
   "metadata": {},
   "outputs": [
    {
     "name": "stdout",
     "output_type": "stream",
     "text": [
      "7\n"
     ]
    }
   ],
   "source": [
    "#2. How do you define a function in Python? Provide an example.\n",
    "\n",
    "#Use the keyword def to declare the function and follow this up with the function name. Add parameters to the function: they should be within the parentheses of the function. End your line with a colon. Add statements that the functions should execute.\n",
    "\n",
    "def sum(a,b):\n",
    "    total=a+b\n",
    "    return total\n",
    "print(sum(3,4))"
   ]
  },
  {
   "cell_type": "code",
   "execution_count": 14,
   "id": "9148ac4b-741e-4c55-8df8-65d9a63be715",
   "metadata": {},
   "outputs": [],
   "source": [
    "#3. Explain the difference between a function definition and a function call.\n",
    "\n",
    "#a function is a block of code that performs a specific task, while a function call is an expression that invokes a function and executes the code in the function.\n"
   ]
  },
  {
   "cell_type": "code",
   "execution_count": 15,
   "id": "49981439-b33b-4695-8651-c563b1d9fd45",
   "metadata": {},
   "outputs": [
    {
     "name": "stdout",
     "output_type": "stream",
     "text": [
      "7\n"
     ]
    }
   ],
   "source": [
    "#4. Write a Python program that defines a function to calculate the sum of two numbers and then\n",
    "#calls the function.\n",
    "\n",
    "def sum(a,b):\n",
    "    total=a+b\n",
    "    return total\n",
    "print(sum(3,4))\n"
   ]
  },
  {
   "cell_type": "code",
   "execution_count": 16,
   "id": "2d466eab-c7c7-475a-8921-3d2fbe8dc86e",
   "metadata": {},
   "outputs": [],
   "source": [
    "#5. What is a function signature, and what information does it typically include?\n",
    "\n",
    "#The signature of a function is defined by the number and type of input arguments the function takes and the type of the result the function returns."
   ]
  },
  {
   "cell_type": "code",
   "execution_count": 17,
   "id": "dbbed213-67b8-4ca5-b1fd-db4f1dd9d4d3",
   "metadata": {},
   "outputs": [
    {
     "name": "stdout",
     "output_type": "stream",
     "text": [
      "12\n"
     ]
    }
   ],
   "source": [
    "#6. Create a Python function that takes two arguments and returns their product.\n",
    "\n",
    "def product(a,b):\n",
    "    total=a*b\n",
    "    return total\n",
    "print(product(3,4))\n"
   ]
  },
  {
   "cell_type": "code",
   "execution_count": 18,
   "id": "a62923b8-7c0e-468f-b65d-9098370ace89",
   "metadata": {},
   "outputs": [],
   "source": [
    "#Function Parameters and Arguments:"
   ]
  },
  {
   "cell_type": "code",
   "execution_count": 19,
   "id": "6bc4513d-6e8c-4968-85a7-8d576a1b8206",
   "metadata": {},
   "outputs": [],
   "source": [
    "#1. Explain the concepts of formal parameters and actual arguments in Python functions.\n",
    "\n",
    "#Actual Parameters vary from Formal Parameters in that Actual Parameters are values supplied to the function when it is invoked, whereas Formal Parameters are variables declared by the function that get values when the function is called."
   ]
  },
  {
   "cell_type": "code",
   "execution_count": 22,
   "id": "6c598cdb-c465-4582-bb16-9ff805ddc656",
   "metadata": {},
   "outputs": [
    {
     "name": "stdout",
     "output_type": "stream",
     "text": [
      "12\n"
     ]
    }
   ],
   "source": [
    "#2. Write a Python program that defines a function with default argument values\n",
    "\n",
    "def product(a=3,b=4):\n",
    "    total=a*b\n",
    "    return total\n",
    "print(product())"
   ]
  },
  {
   "cell_type": "code",
   "execution_count": 28,
   "id": "76a98f1c-10e3-42f7-a67f-7fb925265812",
   "metadata": {},
   "outputs": [
    {
     "name": "stdout",
     "output_type": "stream",
     "text": [
      "12\n"
     ]
    }
   ],
   "source": [
    "#3. How do you use keyword arguments in Python function calls? Provide an example.\n",
    "\n",
    "def product(a,b):\n",
    "    total=a*b\n",
    "    return total\n",
    "print(product(3,4))"
   ]
  },
  {
   "cell_type": "code",
   "execution_count": 30,
   "id": "ecb020eb-93f6-4a6d-96dc-eb5ed4272b1c",
   "metadata": {},
   "outputs": [
    {
     "name": "stdout",
     "output_type": "stream",
     "text": [
      "78\n"
     ]
    }
   ],
   "source": [
    "#4. Create a Python function that accepts a variable number of arguments and calculates their sum.\n",
    "\n",
    "def sum_all(*args): \n",
    "    t=() \n",
    "    s=0 \n",
    "    for i in args: \n",
    "        s=s+i \n",
    "    print(s) \n",
    "\n",
    "sum_all(10,23,45)"
   ]
  },
  {
   "cell_type": "code",
   "execution_count": 31,
   "id": "0c37c11a-d926-4568-93f0-82b23e4153b5",
   "metadata": {},
   "outputs": [],
   "source": [
    "#5. What is the purpose of the `*args` and `**kwargs` syntax in function parameter lists?\n",
    "\n",
    "\n",
    "#*args passes variable number of non-keyworded arguments and on which operation of the tuple can be performed. \n",
    "#**kwargs passes variable number of keyword arguments dictionary to function on which operation of a dictionary can be performed."
   ]
  },
  {
   "cell_type": "code",
   "execution_count": 32,
   "id": "0c9db16f-dbed-4fd9-8b06-e8f6fda63d22",
   "metadata": {},
   "outputs": [],
   "source": [
    "#Return Values and Scoping:"
   ]
  },
  {
   "cell_type": "code",
   "execution_count": 33,
   "id": "1176955b-2b03-4a3a-bddf-077298457765",
   "metadata": {},
   "outputs": [
    {
     "name": "stdout",
     "output_type": "stream",
     "text": [
      "12\n"
     ]
    }
   ],
   "source": [
    "#1. Describe the role of the `return` statement in Python functions and provide examples.\n",
    "\n",
    "#The Python return statement is a key component of functions and methods. You can use the return statement to make your functions send Python objects back to the caller code. These objects are known as the function's return value. You can use them to perform further computation in your programs.\n",
    "\n",
    "def product(a,b):\n",
    "    total=a*b\n",
    "    return total\n",
    "print(product(3,4))"
   ]
  },
  {
   "cell_type": "code",
   "execution_count": 34,
   "id": "7c6c22f1-85c4-40d3-910c-9328f83db03c",
   "metadata": {},
   "outputs": [],
   "source": [
    "#2. Explain the concept of variable scope in Python, including local and global variables.\n",
    "\n",
    "#Python Global variables are those which are not defined inside any function and have a global scope whereas Python local variables are those which are defined inside a function and their scope is limited to that function only."
   ]
  },
  {
   "cell_type": "code",
   "execution_count": 35,
   "id": "1fa64fe2-6b7d-4dcf-b38e-d43fbc86cae0",
   "metadata": {},
   "outputs": [
    {
     "name": "stdout",
     "output_type": "stream",
     "text": [
      "21\n"
     ]
    }
   ],
   "source": [
    "#3. Write a Python program that demonstrates the use of global variables within functions.\n",
    "\n",
    "x=3\n",
    "def sum(a,b):\n",
    "    add=a+b\n",
    "    b=add*x\n",
    "    return b\n",
    "print(sum(3,4))"
   ]
  },
  {
   "cell_type": "code",
   "execution_count": 39,
   "id": "dc9bad62-5001-4e77-91e7-e96f21ad1097",
   "metadata": {},
   "outputs": [
    {
     "name": "stdin",
     "output_type": "stream",
     "text": [
      "Input a number to compute the factiorial :  4\n"
     ]
    },
    {
     "name": "stdout",
     "output_type": "stream",
     "text": [
      "24\n"
     ]
    }
   ],
   "source": [
    "#4. Create a Python function that calculates the factorial of a number and returns it.\n",
    "\n",
    "def factorial(n):\n",
    "    if n == 0:\n",
    "        return 1\n",
    "    else:\n",
    "        return n * factorial(n-1)\n",
    "n=int(input(\"Input a number to compute the factiorial : \"))\n",
    "print(factorial(n))"
   ]
  },
  {
   "cell_type": "code",
   "execution_count": 40,
   "id": "3d73b202-7a72-4816-942f-00ccffeed3eb",
   "metadata": {},
   "outputs": [],
   "source": [
    "#5. How can you access variables defined outside a function from within the function?\n",
    "\n",
    "#variables declared outside a function are known as global variables. You can access such variables inside and outside of a function, as they have global scope"
   ]
  },
  {
   "cell_type": "code",
   "execution_count": 41,
   "id": "38437f3b-2f52-45d4-8435-22de1d7f163a",
   "metadata": {},
   "outputs": [],
   "source": [
    "#Lambda Functions and Higher-Order Functions:"
   ]
  },
  {
   "cell_type": "code",
   "execution_count": 42,
   "id": "fe6e359a-71fb-44a3-a81f-66bc113bedce",
   "metadata": {},
   "outputs": [],
   "source": [
    "#1. What are lambda functions in Python, and when are they typically used?\n",
    "\n",
    "#lambda is a keyword in Python for defining the anonymous function. argument(s) is a placeholder, that is a variable that will be used to hold the value you want to pass into the function expression. A lambda function can have multiple variables depending on what you want to achieve."
   ]
  },
  {
   "cell_type": "code",
   "execution_count": 1,
   "id": "9f257189-74a0-4471-ab90-61ff8c574058",
   "metadata": {},
   "outputs": [
    {
     "name": "stdout",
     "output_type": "stream",
     "text": [
      "Original list of tuples:\n",
      "[('English', 88), ('Science', 90), ('Maths', 97), ('Social sciences', 82)]\n",
      "\n",
      "Sorting the List of Tuples:\n",
      "[('Social sciences', 82), ('English', 88), ('Science', 90), ('Maths', 97)]\n"
     ]
    }
   ],
   "source": [
    "#2. Write a Python program that uses lambda functions to sort a list of tuples based on the second element.\n",
    "\n",
    "subject_marks = [('English', 88), ('Science', 90), ('Maths', 97), ('Social sciences', 82)]\n",
    "print(\"Original list of tuples:\")\n",
    "print(subject_marks)\n",
    "subject_marks.sort(key = lambda x: x[1])\n",
    "print(\"\\nSorting the List of Tuples:\")\n",
    "print(subject_marks)"
   ]
  },
  {
   "cell_type": "code",
   "execution_count": 1,
   "id": "edd671e8-f577-4c97-bcaf-0f383f176e48",
   "metadata": {},
   "outputs": [
    {
     "name": "stdout",
     "output_type": "stream",
     "text": [
      "HELLO\n",
      "HELLO\n"
     ]
    }
   ],
   "source": [
    "#3. Explain the concept of higher-order functions in Python, and provide an example.\n",
    "\n",
    "#Higher-order functions are functions that take a function as a parameter and/or return a function as an output. A few useful higher-order functions are map() , filter() , and reduce() . map() and filter() are built-in functions, whereas reduce() is contained in functools() module.\n",
    "def shout(text):  \n",
    "    return text.upper()  \n",
    "    \n",
    "print(shout('Hello'))  \n",
    "    \n",
    "# Assigning function to a variable \n",
    "yell = shout  \n",
    "    \n",
    "print(yell('Hello')) "
   ]
  },
  {
   "cell_type": "code",
   "execution_count": 5,
   "id": "b2dd92e7-4bc2-4577-a427-4ccd4be0ed07",
   "metadata": {},
   "outputs": [
    {
     "name": "stdin",
     "output_type": "stream",
     "text": [
      "Enter the number of elements:-  4\n"
     ]
    },
    {
     "name": "stdout",
     "output_type": "stream",
     "text": [
      "[0, 1, 2, 3]\n",
      "0\n",
      "2\n",
      "4\n",
      "6\n",
      "6\n"
     ]
    }
   ],
   "source": [
    "#4. Create a Python function that takes a list of numbers and a function as arguments, applying the function to each element in the list.\n",
    "\n",
    "n=int(input(\"Enter the number of elements:- \"))\n",
    "no=[]\n",
    "for i in range (0,n):\n",
    "    no.append(i)\n",
    "print(no)\n",
    "\n",
    "def double(n):\n",
    "    for i in no:\n",
    "        a= i*2\n",
    "        print(a)\n",
    "    return a\n",
    "print(double(no))"
   ]
  },
  {
   "cell_type": "code",
   "execution_count": 6,
   "id": "0721864d-5a96-4344-bee2-4f8e827836c7",
   "metadata": {},
   "outputs": [],
   "source": [
    "#Built-in Functions:"
   ]
  },
  {
   "cell_type": "code",
   "execution_count": 7,
   "id": "3a0eea32-4211-4163-829e-3eea6020ce06",
   "metadata": {},
   "outputs": [],
   "source": [
    "#1. Describe the role of built-in functions like `len()`, `max()`, and `min()` in Python.\n",
    "\n",
    "#The len() function returns the number of items in an object. When the object is a string, the len() function returns the number of characters in the string.\n",
    "#The max() function returns the item with the highest value, or the item with the highest value in an iterable. If the values are strings, an alphabetically comparison is done.\n",
    "#The min() function returns the item with the lowest value, or the item with the lowest value in an iterable. If the values are strings, an alphabetically comparison is done."
   ]
  },
  {
   "cell_type": "code",
   "execution_count": 10,
   "id": "c1207cb5-6f26-4e3d-81d2-dd40798932db",
   "metadata": {},
   "outputs": [
    {
     "name": "stdout",
     "output_type": "stream",
     "text": [
      "[9, 25, 4, 1, 16]\n"
     ]
    }
   ],
   "source": [
    "#2. Write a Python program that uses the `map()` function to apply a function to each element of a list.\n",
    "\n",
    "no=[3,5,2,1,4]\n",
    "a=list(map(lambda x: x*x,no))\n",
    "print(a)"
   ]
  },
  {
   "cell_type": "code",
   "execution_count": 15,
   "id": "265da06f-3c02-4040-8a4d-225e20e81e97",
   "metadata": {},
   "outputs": [
    {
     "name": "stdout",
     "output_type": "stream",
     "text": [
      "18\n",
      "24\n",
      "32\n"
     ]
    }
   ],
   "source": [
    "#3. How does the `filter()` function work in Python, and when would you use it?\n",
    "\n",
    "ages = [5, 12, 17, 18, 24, 32]\n",
    "\n",
    "def myFunc(x):\n",
    "  if x < 18:\n",
    "    return False\n",
    "  else:\n",
    "    return True\n",
    "\n",
    "adults = filter(myFunc, ages)\n",
    "\n",
    "for x in adults:\n",
    "  print(x)"
   ]
  },
  {
   "cell_type": "code",
   "execution_count": 16,
   "id": "4a2b8c62-9dd2-4dfb-bb41-6a0cd520e880",
   "metadata": {},
   "outputs": [
    {
     "name": "stdout",
     "output_type": "stream",
     "text": [
      "The sum of the list elements is : 17\n",
      "The maximum element of the list is : 6\n"
     ]
    }
   ],
   "source": [
    "#4. Create a Python program that uses the `reduce()` function to find the product of all elements in a list.\n",
    "\n",
    "import functools \n",
    "  \n",
    "# initializing list \n",
    "lis = [1, 3, 5, 6, 2] \n",
    "  \n",
    "# using reduce to compute sum of list \n",
    "print(\"The sum of the list elements is : \", end=\"\") \n",
    "print(functools.reduce(lambda a, b: a+b, lis)) \n",
    "  \n",
    "# using reduce to compute maximum element from list \n",
    "print(\"The maximum element of the list is : \", end=\"\") \n",
    "print(functools.reduce(lambda a, b: a if a > b else b, lis)) "
   ]
  },
  {
   "cell_type": "code",
   "execution_count": 17,
   "id": "5f9aa690-c67f-40af-bb3d-6c87bf40613d",
   "metadata": {},
   "outputs": [],
   "source": [
    "#Function Documentation and Best Practices:"
   ]
  },
  {
   "cell_type": "code",
   "execution_count": 18,
   "id": "686a10fd-300f-45e0-bd7d-dde3d9ae0cbf",
   "metadata": {},
   "outputs": [],
   "source": [
    "#1. Explain the purpose of docstrings in Python functions and how to write them\n",
    "\n",
    "#Python documentation strings (or docstrings) provide a convenient way of associating documentation with Python modules, functions, classes, and methods. It’s specified in source code that is used, like a comment, to document a specific segment of code. Unlike conventional source code comments, the docstring should describe what the function does, not how."
   ]
  },
  {
   "cell_type": "code",
   "execution_count": null,
   "id": "a1d7626a-2f32-444c-b773-d57c5f62b239",
   "metadata": {},
   "outputs": [],
   "source": [
    "#2. Describe some best practices for naming fuctions and variables in python, including naming conventions and guidelines.\n",
    "\n",
    "#Be consistent:\n",
    "#Avoid one-letter variable names\n",
    "#Use meaningful and concise variable names:\n",
    "#Don't override built-in names:\n",
    "#Use underscores for module and package names"
   ]
  }
 ],
 "metadata": {
  "kernelspec": {
   "display_name": "Python 3 (ipykernel)",
   "language": "python",
   "name": "python3"
  },
  "language_info": {
   "codemirror_mode": {
    "name": "ipython",
    "version": 3
   },
   "file_extension": ".py",
   "mimetype": "text/x-python",
   "name": "python",
   "nbconvert_exporter": "python",
   "pygments_lexer": "ipython3",
   "version": "3.10.8"
  }
 },
 "nbformat": 4,
 "nbformat_minor": 5
}
